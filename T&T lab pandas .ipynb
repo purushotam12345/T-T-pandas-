{
 "cells": [
  {
   "cell_type": "markdown",
   "id": "2e043b3d",
   "metadata": {},
   "source": [
    "# Name:purushotam pd kurmi\n",
    "# Roll:21052946"
   ]
  },
  {
   "cell_type": "code",
   "execution_count": 3,
   "id": "d1a1f0c9",
   "metadata": {},
   "outputs": [],
   "source": [
    "import pandas as pd\n",
    "import pandas as pd"
   ]
  },
  {
   "cell_type": "markdown",
   "id": "2502b408",
   "metadata": {},
   "source": [
    "# import the dataset"
   ]
  },
  {
   "cell_type": "code",
   "execution_count": 5,
   "id": "a257937e",
   "metadata": {},
   "outputs": [
    {
     "data": {
      "text/plain": [
       "<bound method NDFrame.head of          rank discipline   phd  service  gender    salary\n",
       "0        Prof          B  56.0       49    Male  186960.0\n",
       "1        Prof          A  12.0        6    Male   93000.0\n",
       "2        Prof          A  23.0       20    Male  110515.0\n",
       "3        Prof          A  40.0       31    Male  131205.0\n",
       "4        Prof          B  20.0       18    Male  104800.0\n",
       "..        ...        ...   ...      ...     ...       ...\n",
       "73       Prof          B  18.0       10  Female  105450.0\n",
       "74  AssocProf          B  19.0        6  Female  104542.0\n",
       "75       Prof          B  17.0       17  Female  124312.0\n",
       "76       Prof          A  28.0       14  Female  109954.0\n",
       "77       Prof          A  23.0       15  Female  109646.0\n",
       "\n",
       "[78 rows x 6 columns]>"
      ]
     },
     "execution_count": 5,
     "metadata": {},
     "output_type": "execute_result"
    }
   ],
   "source": [
    "df = pd.read_csv(\"salaries.csv\")\n",
    "df.shape\n",
    "df.head"
   ]
  },
  {
   "cell_type": "markdown",
   "id": "08d4bad2",
   "metadata": {},
   "source": [
    "# Display how many rows and how many columns"
   ]
  },
  {
   "cell_type": "code",
   "execution_count": 13,
   "id": "7121bed7",
   "metadata": {},
   "outputs": [
    {
     "data": {
      "text/plain": [
       "(78, 6)"
      ]
     },
     "execution_count": 13,
     "metadata": {},
     "output_type": "execute_result"
    }
   ],
   "source": [
    "df.shape"
   ]
  },
  {
   "cell_type": "markdown",
   "id": "8ba8ecf2",
   "metadata": {},
   "source": [
    "# Display first 10 rows atleast 15 rows"
   ]
  },
  {
   "cell_type": "code",
   "execution_count": 14,
   "id": "58501a0f",
   "metadata": {},
   "outputs": [
    {
     "data": {
      "text/html": [
       "<div>\n",
       "<style scoped>\n",
       "    .dataframe tbody tr th:only-of-type {\n",
       "        vertical-align: middle;\n",
       "    }\n",
       "\n",
       "    .dataframe tbody tr th {\n",
       "        vertical-align: top;\n",
       "    }\n",
       "\n",
       "    .dataframe thead th {\n",
       "        text-align: right;\n",
       "    }\n",
       "</style>\n",
       "<table border=\"1\" class=\"dataframe\">\n",
       "  <thead>\n",
       "    <tr style=\"text-align: right;\">\n",
       "      <th></th>\n",
       "      <th>rank</th>\n",
       "      <th>discipline</th>\n",
       "      <th>phd</th>\n",
       "      <th>service</th>\n",
       "      <th>gender</th>\n",
       "      <th>salary</th>\n",
       "    </tr>\n",
       "  </thead>\n",
       "  <tbody>\n",
       "    <tr>\n",
       "      <th>10</th>\n",
       "      <td>Prof</td>\n",
       "      <td>B</td>\n",
       "      <td>39.0</td>\n",
       "      <td>33</td>\n",
       "      <td>Male</td>\n",
       "      <td>128250.0</td>\n",
       "    </tr>\n",
       "    <tr>\n",
       "      <th>11</th>\n",
       "      <td>Prof</td>\n",
       "      <td>B</td>\n",
       "      <td>23.0</td>\n",
       "      <td>23</td>\n",
       "      <td>Male</td>\n",
       "      <td>134778.0</td>\n",
       "    </tr>\n",
       "    <tr>\n",
       "      <th>12</th>\n",
       "      <td>AsstProf</td>\n",
       "      <td>B</td>\n",
       "      <td>1.0</td>\n",
       "      <td>0</td>\n",
       "      <td>Male</td>\n",
       "      <td>88000.0</td>\n",
       "    </tr>\n",
       "    <tr>\n",
       "      <th>13</th>\n",
       "      <td>Prof</td>\n",
       "      <td>B</td>\n",
       "      <td>NaN</td>\n",
       "      <td>33</td>\n",
       "      <td>Male</td>\n",
       "      <td>162200.0</td>\n",
       "    </tr>\n",
       "    <tr>\n",
       "      <th>14</th>\n",
       "      <td>Prof</td>\n",
       "      <td>B</td>\n",
       "      <td>25.0</td>\n",
       "      <td>19</td>\n",
       "      <td>Male</td>\n",
       "      <td>153750.0</td>\n",
       "    </tr>\n",
       "    <tr>\n",
       "      <th>15</th>\n",
       "      <td>Prof</td>\n",
       "      <td>B</td>\n",
       "      <td>17.0</td>\n",
       "      <td>3</td>\n",
       "      <td>Male</td>\n",
       "      <td>150480.0</td>\n",
       "    </tr>\n",
       "  </tbody>\n",
       "</table>\n",
       "</div>"
      ],
      "text/plain": [
       "        rank discipline   phd  service gender    salary\n",
       "10      Prof          B  39.0       33   Male  128250.0\n",
       "11      Prof          B  23.0       23   Male  134778.0\n",
       "12  AsstProf          B   1.0        0   Male   88000.0\n",
       "13      Prof          B   NaN       33   Male  162200.0\n",
       "14      Prof          B  25.0       19   Male  153750.0\n",
       "15      Prof          B  17.0        3   Male  150480.0"
      ]
     },
     "execution_count": 14,
     "metadata": {},
     "output_type": "execute_result"
    }
   ],
   "source": [
    "df[10:16]"
   ]
  },
  {
   "cell_type": "markdown",
   "id": "532830a1",
   "metadata": {},
   "source": [
    "# Which male and female professor has the highest and the lowest salaries "
   ]
  },
  {
   "cell_type": "code",
   "execution_count": 18,
   "id": "3d69c892",
   "metadata": {},
   "outputs": [],
   "source": [
    "df_gender=df['gender']"
   ]
  },
  {
   "cell_type": "code",
   "execution_count": 25,
   "id": "477fa7cb",
   "metadata": {},
   "outputs": [],
   "source": [
    "male=df_gender[:39]"
   ]
  },
  {
   "cell_type": "code",
   "execution_count": 26,
   "id": "9880d65e",
   "metadata": {},
   "outputs": [],
   "source": [
    "female=df_gender[39:]"
   ]
  },
  {
   "cell_type": "code",
   "execution_count": 40,
   "id": "d38cfbf4",
   "metadata": {},
   "outputs": [],
   "source": [
    "grouped = df.groupby('gender')['salary'].agg(['mean', 'max', 'min'])"
   ]
  },
  {
   "cell_type": "code",
   "execution_count": 41,
   "id": "db7aa9bd",
   "metadata": {},
   "outputs": [],
   "source": [
    "highest_male_salary = df[df['salary'] == grouped.loc['Male', 'max']]\n",
    "lowest_male_salary = df[df['salary'] == grouped.loc['Male', 'min']]\n",
    "highest_female_salary = df[df['salary'] == grouped.loc['Female', 'max']]\n",
    "lowest_female_salary = df[df['salary'] == grouped.loc['Female', 'min']]"
   ]
  },
  {
   "cell_type": "code",
   "execution_count": 45,
   "id": "f1ac7588",
   "metadata": {},
   "outputs": [
    {
     "name": "stdout",
     "output_type": "stream",
     "text": [
      "Highest Male Professor Salary:\n",
      "  gender    salary\n",
      "0   Male  186960.0\n",
      "\n",
      "Lowest Male Professor Salary:\n",
      "  gender   salary\n",
      "9   Male  57800.0\n",
      "\n",
      "Highest Female Professor salary:\n",
      "    gender    salary\n",
      "72  Female  161101.0\n",
      "\n",
      "Lowest Female Professor Salary:\n",
      "    gender   salary\n",
      "54  Female  62884.0\n"
     ]
    }
   ],
   "source": [
    "print(\"Highest Male Professor Salary:\")\n",
    "print(highest_male_salary[['gender', 'salary']])\n",
    "\n",
    "print(\"\\nLowest Male Professor Salary:\")\n",
    "print(lowest_male_salary[['gender', 'salary']])\n",
    "\n",
    "print(\"\\nHighest Female Professor salary:\")\n",
    "print(highest_female_salary[['gender', 'salary']])\n",
    "\n",
    "print(\"\\nLowest Female Professor Salary:\")\n",
    "print(lowest_female_salary[['gender', 'salary']])"
   ]
  },
  {
   "cell_type": "markdown",
   "id": "7b724d96",
   "metadata": {},
   "source": [
    "# Which professor take the highest and lowest salaries "
   ]
  },
  {
   "cell_type": "code",
   "execution_count": 50,
   "id": "8d31b8b7",
   "metadata": {},
   "outputs": [],
   "source": [
    "male_professors = df[df['gender'] == 'Male']"
   ]
  },
  {
   "cell_type": "code",
   "execution_count": 54,
   "id": "7955d2c9",
   "metadata": {},
   "outputs": [],
   "source": [
    "highest_male_salary = male_professors.loc[male_professors['salary'].idxmax()]"
   ]
  },
  {
   "cell_type": "code",
   "execution_count": 55,
   "id": "6e345091",
   "metadata": {},
   "outputs": [
    {
     "data": {
      "text/plain": [
       "rank              Prof\n",
       "discipline           B\n",
       "phd               56.0\n",
       "service             49\n",
       "gender            Male\n",
       "salary        186960.0\n",
       "Name: 0, dtype: object"
      ]
     },
     "execution_count": 55,
     "metadata": {},
     "output_type": "execute_result"
    }
   ],
   "source": [
    "highest_male_salary"
   ]
  },
  {
   "cell_type": "code",
   "execution_count": 56,
   "id": "97613c9f",
   "metadata": {},
   "outputs": [],
   "source": [
    "lowest_male_salary = male_professors.loc[male_professors['salary'].idxmin()]"
   ]
  },
  {
   "cell_type": "code",
   "execution_count": 57,
   "id": "b42a6efe",
   "metadata": {},
   "outputs": [
    {
     "data": {
      "text/plain": [
       "rank             Prof\n",
       "discipline          A\n",
       "phd              51.0\n",
       "service            51\n",
       "gender           Male\n",
       "salary        57800.0\n",
       "Name: 9, dtype: object"
      ]
     },
     "execution_count": 57,
     "metadata": {},
     "output_type": "execute_result"
    }
   ],
   "source": [
    "lowest_male_salary"
   ]
  },
  {
   "cell_type": "code",
   "execution_count": 58,
   "id": "a4a02c22",
   "metadata": {},
   "outputs": [],
   "source": [
    "female_professors = df[df['gender'] == 'Female']"
   ]
  },
  {
   "cell_type": "code",
   "execution_count": 59,
   "id": "c79608a6",
   "metadata": {},
   "outputs": [],
   "source": [
    "highest_female_salary = female_professors.loc[female_professors['salary'].idxmax()]\n",
    "lowest_female_salary = female_professors.loc[female_professors['salary'].idxmin()]"
   ]
  },
  {
   "cell_type": "code",
   "execution_count": 60,
   "id": "379203c6",
   "metadata": {},
   "outputs": [
    {
     "name": "stdout",
     "output_type": "stream",
     "text": [
      "Highest salary for male professor: rank              Prof\n",
      "discipline           B\n",
      "phd               56.0\n",
      "service             49\n",
      "salary        186960.0\n",
      "Name: 0, dtype: object\n",
      "Lowest salary for male professor: rank             Prof\n",
      "discipline          A\n",
      "phd              51.0\n",
      "service            51\n",
      "salary        57800.0\n",
      "Name: 9, dtype: object\n",
      "Highest salary for female professor: rank              Prof\n",
      "discipline           B\n",
      "phd               24.0\n",
      "service             15\n",
      "salary        161101.0\n",
      "Name: 72, dtype: object\n",
      "Lowest salary for female professor: rank          AssocProf\n",
      "discipline            A\n",
      "phd                25.0\n",
      "service              22\n",
      "salary          62884.0\n",
      "Name: 54, dtype: object\n"
     ]
    }
   ],
   "source": [
    "print(\"Highest salary for male professor:\", highest_male_salary[['rank', 'discipline', 'phd', 'service', 'salary']])\n",
    "print(\"Lowest salary for male professor:\", lowest_male_salary[['rank', 'discipline', 'phd', 'service', 'salary']])\n",
    "print(\"Highest salary for female professor:\", highest_female_salary[['rank', 'discipline', 'phd', 'service', 'salary']])\n",
    "print(\"Lowest salary for female professor:\", lowest_female_salary[['rank', 'discipline', 'phd', 'service', 'salary']])"
   ]
  },
  {
   "cell_type": "markdown",
   "id": "f549430e",
   "metadata": {},
   "source": [
    "# Missing Salaries - should be replaced as mean of the matching salaries of those whose 'service' is the same"
   ]
  },
  {
   "cell_type": "code",
   "execution_count": 61,
   "id": "3e5a80fe",
   "metadata": {},
   "outputs": [],
   "source": [
    "df['salary'] = df.groupby('service')['salary'].transform(lambda x: x.fillna(x.mean()))\n"
   ]
  },
  {
   "cell_type": "code",
   "execution_count": 62,
   "id": "b328ccc5",
   "metadata": {},
   "outputs": [],
   "source": [
    "df = df.dropna(subset=['salary'])\n"
   ]
  },
  {
   "cell_type": "code",
   "execution_count": 63,
   "id": "1d58bab7",
   "metadata": {},
   "outputs": [],
   "source": [
    "df['salary'] = pd.to_numeric(df['salary'], errors='coerce')\n"
   ]
  },
  {
   "cell_type": "code",
   "execution_count": 64,
   "id": "06d9f300",
   "metadata": {},
   "outputs": [],
   "source": [
    "male_professors = df[df['gender'] == 'Male']\n"
   ]
  },
  {
   "cell_type": "code",
   "execution_count": 65,
   "id": "f7732408",
   "metadata": {},
   "outputs": [],
   "source": [
    "highest_male_salary = male_professors.loc[male_professors['salary'].idxmax()]\n"
   ]
  },
  {
   "cell_type": "code",
   "execution_count": 66,
   "id": "69e06814",
   "metadata": {},
   "outputs": [],
   "source": [
    "lowest_male_salary = male_professors.loc[male_professors['salary'].idxmin()]\n"
   ]
  },
  {
   "cell_type": "code",
   "execution_count": 67,
   "id": "84ec8f4e",
   "metadata": {},
   "outputs": [],
   "source": [
    "female_professors = df[df['gender'] == 'Female']\n",
    "\n"
   ]
  },
  {
   "cell_type": "code",
   "execution_count": 68,
   "id": "77fd8bb6",
   "metadata": {},
   "outputs": [],
   "source": [
    "highest_female_salary = female_professors.loc[female_professors['salary'].idxmax()]\n",
    "lowest_female_salary = female_professors.loc[female_professors['salary'].idxmin()]\n"
   ]
  },
  {
   "cell_type": "code",
   "execution_count": 69,
   "id": "9432a1ea",
   "metadata": {},
   "outputs": [
    {
     "name": "stdout",
     "output_type": "stream",
     "text": [
      "Highest salary for male professor: rank              Prof\n",
      "discipline           B\n",
      "phd               56.0\n",
      "service             49\n",
      "salary        186960.0\n",
      "Name: 0, dtype: object\n",
      "Lowest salary for male professor: rank             Prof\n",
      "discipline          A\n",
      "phd              51.0\n",
      "service            51\n",
      "salary        57800.0\n",
      "Name: 9, dtype: object\n",
      "Highest salary for female professor: rank              Prof\n",
      "discipline           B\n",
      "phd               24.0\n",
      "service             15\n",
      "salary        161101.0\n",
      "Name: 72, dtype: object\n",
      "Lowest salary for female professor: rank          AssocProf\n",
      "discipline            A\n",
      "phd                25.0\n",
      "service              22\n",
      "salary          62884.0\n",
      "Name: 54, dtype: object\n"
     ]
    }
   ],
   "source": [
    "print(\"Highest salary for male professor:\", highest_male_salary[['rank', 'discipline', 'phd', 'service', 'salary']])\n",
    "print(\"Lowest salary for male professor:\", lowest_male_salary[['rank', 'discipline', 'phd', 'service', 'salary']])\n",
    "print(\"Highest salary for female professor:\", highest_female_salary[['rank', 'discipline', 'phd', 'service', 'salary']])\n",
    "print(\"Lowest salary for female professor:\", lowest_female_salary[['rank', 'discipline', 'phd', 'service', 'salary']])\n",
    "\n"
   ]
  },
  {
   "cell_type": "markdown",
   "id": "d1e8df60",
   "metadata": {},
   "source": [
    "# Missing 'phd' - should be replaced as mean of the matching 'service'\n"
   ]
  },
  {
   "cell_type": "code",
   "execution_count": 70,
   "id": "d2acd922",
   "metadata": {},
   "outputs": [],
   "source": [
    "df['phd'] = df.groupby('service')['phd'].transform(lambda x: x.fillna(x.mean()))\n",
    "\n"
   ]
  },
  {
   "cell_type": "code",
   "execution_count": 71,
   "id": "93d71a7b",
   "metadata": {},
   "outputs": [],
   "source": [
    "df['phd'].fillna(df['phd'].mean(), inplace=True)\n",
    "\n"
   ]
  },
  {
   "cell_type": "code",
   "execution_count": 72,
   "id": "2cbdfb79",
   "metadata": {},
   "outputs": [],
   "source": [
    "df['salary'] = df.groupby('service')['salary'].transform(lambda x: x.fillna(x.mean()))\n",
    "\n"
   ]
  },
  {
   "cell_type": "code",
   "execution_count": 73,
   "id": "a30e5e55",
   "metadata": {},
   "outputs": [],
   "source": [
    "df = df.dropna(subset=['phd', 'salary'])\n",
    "\n"
   ]
  },
  {
   "cell_type": "code",
   "execution_count": 74,
   "id": "171dd761",
   "metadata": {},
   "outputs": [],
   "source": [
    "male_professors = df[df['gender'] == 'Male']\n",
    "\n"
   ]
  },
  {
   "cell_type": "code",
   "execution_count": 75,
   "id": "dc9955d2",
   "metadata": {},
   "outputs": [],
   "source": [
    "highest_male_salary = male_professors.loc[male_professors['salary'].idxmax()]\n",
    "\n"
   ]
  },
  {
   "cell_type": "code",
   "execution_count": 76,
   "id": "c9dd3a86",
   "metadata": {},
   "outputs": [],
   "source": [
    "lowest_male_salary = male_professors.loc[male_professors['salary'].idxmin()]\n",
    "\n"
   ]
  },
  {
   "cell_type": "code",
   "execution_count": 77,
   "id": "6fa3fa29",
   "metadata": {},
   "outputs": [],
   "source": [
    "female_professors = df[df['gender'] == 'Female']\n"
   ]
  },
  {
   "cell_type": "code",
   "execution_count": 78,
   "id": "90a5a8ca",
   "metadata": {},
   "outputs": [],
   "source": [
    "highest_female_salary = female_professors.loc[female_professors['salary'].idxmax()]\n",
    "lowest_female_salary = female_professors.loc[female_professors['salary'].idxmin()]\n"
   ]
  },
  {
   "cell_type": "code",
   "execution_count": 81,
   "id": "bf8c3082",
   "metadata": {},
   "outputs": [
    {
     "name": "stdout",
     "output_type": "stream",
     "text": [
      "Highest salary for male professor: rank              Prof\n",
      "discipline           B\n",
      "phd               56.0\n",
      "service             49\n",
      "salary        186960.0\n",
      "Name: 0, dtype: object\n",
      "Lowest salary for male professor: rank             Prof\n",
      "discipline          A\n",
      "phd              51.0\n",
      "service            51\n",
      "salary        57800.0\n",
      "Name: 9, dtype: object\n",
      "Highest salary for female professor: rank              Prof\n",
      "discipline           B\n",
      "phd               24.0\n",
      "service             15\n",
      "salary        161101.0\n",
      "Name: 72, dtype: object\n"
     ]
    }
   ],
   "source": [
    "print(\"Highest salary for male professor:\", highest_male_salary[['rank', 'discipline', 'phd', 'service', 'salary']])\n",
    "print(\"Lowest salary for male professor:\", lowest_male_salary[['rank', 'discipline', 'phd', 'service', 'salary']])\n",
    "print(\"Highest salary for female professor:\", highest_female_salary[['rank', 'discipline', 'phd', 'service', 'salary']])\n"
   ]
  },
  {
   "cell_type": "code",
   "execution_count": 85,
   "id": "bf8277a5",
   "metadata": {},
   "outputs": [
    {
     "data": {
      "text/plain": [
       "rank          AssocProf\n",
       "discipline            A\n",
       "phd                25.0\n",
       "service              22\n",
       "salary          62884.0\n",
       "Name: 54, dtype: object"
      ]
     },
     "execution_count": 85,
     "metadata": {},
     "output_type": "execute_result"
    }
   ],
   "source": [
    "lowest_female_salary[['rank', 'discipline', 'phd', 'service','salary']]"
   ]
  },
  {
   "cell_type": "markdown",
   "id": "3157e492",
   "metadata": {},
   "source": [
    "# How many are Male Staff and how many are Female Staffs."
   ]
  },
  {
   "cell_type": "code",
   "execution_count": 86,
   "id": "7887dda3",
   "metadata": {},
   "outputs": [],
   "source": [
    "male_count = df[df['gender'] == 'Male'].shape[0]\n",
    "female_count = df[df['gender'] == 'Female'].shape[0]\n",
    "\n"
   ]
  },
  {
   "cell_type": "code",
   "execution_count": 88,
   "id": "4a6bc698",
   "metadata": {},
   "outputs": [
    {
     "data": {
      "text/plain": [
       "39"
      ]
     },
     "execution_count": 88,
     "metadata": {},
     "output_type": "execute_result"
    }
   ],
   "source": [
    "male_count"
   ]
  },
  {
   "cell_type": "code",
   "execution_count": 89,
   "id": "784274c3",
   "metadata": {},
   "outputs": [
    {
     "data": {
      "text/plain": [
       "39"
      ]
     },
     "execution_count": 89,
     "metadata": {},
     "output_type": "execute_result"
    }
   ],
   "source": [
    "female_count"
   ]
  },
  {
   "cell_type": "markdown",
   "id": "a5611b37",
   "metadata": {},
   "source": [
    "# How many are Prof, AssocProf and Asst. Prof."
   ]
  },
  {
   "cell_type": "code",
   "execution_count": 90,
   "id": "d6704044",
   "metadata": {},
   "outputs": [],
   "source": [
    "prof_count = df[df['rank'] == 'Prof'].shape[0]\n",
    "assoc_prof_count = df[df['rank'] == 'AssocProf'].shape[0]\n",
    "asst_prof_count = df[df['rank'] == 'AsstProf'].shape[0]\n",
    "\n"
   ]
  },
  {
   "cell_type": "code",
   "execution_count": 91,
   "id": "93f79fa9",
   "metadata": {},
   "outputs": [
    {
     "name": "stdout",
     "output_type": "stream",
     "text": [
      "Number of Professors (Prof): 46\n",
      "Number of Associate Professors (AssocProf): 13\n",
      "Number of Assistant Professors (AsstProf): 19\n"
     ]
    }
   ],
   "source": [
    "print(\"Number of Professors (Prof):\", prof_count)\n",
    "print(\"Number of Associate Professors (AssocProf):\", assoc_prof_count)\n",
    "print(\"Number of Assistant Professors (AsstProf):\", asst_prof_count)"
   ]
  },
  {
   "cell_type": "markdown",
   "id": "120cbd74",
   "metadata": {},
   "source": [
    "# Who are the senior and junior most employees in the organization?\n"
   ]
  },
  {
   "cell_type": "code",
   "execution_count": 92,
   "id": "9d327dce",
   "metadata": {},
   "outputs": [],
   "source": [
    "senior_employee = df.loc[df['service'].idxmax()]"
   ]
  },
  {
   "cell_type": "code",
   "execution_count": 93,
   "id": "7bb4f764",
   "metadata": {},
   "outputs": [],
   "source": [
    "junior_employee = df.loc[df['service'].idxmin()]\n"
   ]
  },
  {
   "cell_type": "code",
   "execution_count": 95,
   "id": "f65b6d47",
   "metadata": {},
   "outputs": [
    {
     "data": {
      "text/plain": [
       "rank             Prof\n",
       "discipline          A\n",
       "phd              51.0\n",
       "service            51\n",
       "gender           Male\n",
       "salary        57800.0\n",
       "Name: 9, dtype: object"
      ]
     },
     "execution_count": 95,
     "metadata": {},
     "output_type": "execute_result"
    }
   ],
   "source": [
    "senior_employee"
   ]
  },
  {
   "cell_type": "code",
   "execution_count": 96,
   "id": "8ddc3922",
   "metadata": {},
   "outputs": [
    {
     "data": {
      "text/plain": [
       "rank          AsstProf\n",
       "discipline           B\n",
       "phd                1.0\n",
       "service              0\n",
       "gender            Male\n",
       "salary         88000.0\n",
       "Name: 12, dtype: object"
      ]
     },
     "execution_count": 96,
     "metadata": {},
     "output_type": "execute_result"
    }
   ],
   "source": [
    "junior_employee"
   ]
  },
  {
   "cell_type": "code",
   "execution_count": null,
   "id": "d7f961c9",
   "metadata": {},
   "outputs": [],
   "source": []
  }
 ],
 "metadata": {
  "kernelspec": {
   "display_name": "Python 3 (ipykernel)",
   "language": "python",
   "name": "python3"
  },
  "language_info": {
   "codemirror_mode": {
    "name": "ipython",
    "version": 3
   },
   "file_extension": ".py",
   "mimetype": "text/x-python",
   "name": "python",
   "nbconvert_exporter": "python",
   "pygments_lexer": "ipython3",
   "version": "3.11.5"
  }
 },
 "nbformat": 4,
 "nbformat_minor": 5
}
